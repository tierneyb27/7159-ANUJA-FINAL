{
  "cells": [
    {
      "cell_type": "markdown",
      "metadata": {
        "id": "87jM5um6__J-"
      },
      "source": [
        "# Reinforcement Learning"
      ]
    },
    {
      "cell_type": "markdown",
      "metadata": {
        "id": "gfJLjlT8__KA"
      },
      "source": [
        "## Paper summary"
      ]
    },
    {
      "cell_type": "markdown",
      "metadata": {
        "id": "QbFljTtu__KB"
      },
      "source": [
        "Title: Faster sorting algorithms discovered using deep reinforcement learning"
      ]
    },
    {
      "cell_type": "markdown",
      "metadata": {
        "id": "hV2-ZwM-__KB"
      },
      "source": [
        "Sorting is likely to be the most fundamental operation in computer science. Whenever data is ordered, whether in databases, search engines, or basic software, sorting algorithms are in use. Researchers and engineers have contributed to these algorithms over the decades, eliminated inefficiencies, and accelerated them. But after decades of optimization, the gains from human-designed methods started to plateau. The Mankowitz et al. paper brings to light a breakthrough: using artificial intelligence, or deep reinforcement learning (DRL), to discover sorting algorithms superior to those produced by humans.\n",
        "\n",
        "The scientists developed an artificial intelligence system called AlphaDev based on AlphaZero, the computer program that is famous for defeating games like Go and chess. Instead of approaching the task of sorting in the typical coding problem sense, they transformed it into a single-player game. Here in this \"AssemblyGame,\" the AI agent constructs sorting procedures one instruction at a time through direct manipulation of low-level CPU assembly language. The aim is to create code that is correct (sorting the input without error) and fast (executing with low latency).\n",
        "\n",
        "AlphaDev's architecture combines a few key elements. In the middle is a Transformer-based representation network, representing the program under construction now, and the state of the CPU's memory. This network feeds into a two-stage value function that approximates two quantities: whether or not the partial algorithm is guaranteed to be correct and how long it would take. A Monte Carlo Tree Search process guides AlphaDev's search so it can focus on favorable sequences of instructions without having to try all possibilities randomly. This hybrid method makes the search more efficient and productive than previous brute-force or stochastic methods.\n",
        "\n",
        "AlphaDev picked up new sorting algorithms that broke long-standing human benchmarks. For fixed-size inputs (like sorting exactly 3, 4, or 5 elements), the AI produced more efficient, smaller algorithms.  Even on larger, variable-length sorting issues, AlphaDev found gains through sequences up to a length of 8. One surprise was finding new \"swap\" and \"copy\" instruction patterns—clever tricks for reordering elements in fewer steps than in traditional designs.\n",
        "\n",
        "What gives this achievement special meaning is that AlphaDev's algorithms were not mere theoretical exercises. They were exercised, verified, and ultimately used in LLVM's libc++ standard library sort, one of the most widely used C++ libraries on the planet. To the best of my knowledge, this is the first time ever that a fundamental sort routine in so prominent a library was replaced. In real-world benchmarking tests, the improvements amortized: while short sequences improved most significantly, even gigantic datasets saw noticeable improvements of approximately 1.7 percent on modern CPUs like ARMv8, AMD Zen 2, and Intel Skylake. Because so much sorting gets called into play in global computing infrastructure, even small percentage improvements bring huge cumulative savings.\n",
        "\n",
        "The researchers also tried to see if AlphaDev could generalize from sorting. To try this, they had it apply to implementing VarInt deserialization, a convention used by Google's Protocol Buffers for encoding integers. AlphaDev produced a branchless, extremely efficient routine that was approximately three times faster than the human-written reference version. This demonstration proved that the method is not only applicable to sorting but can be applied to many fields in which performance and correctness are important.\n",
        "\n",
        "The broader implications are significant. AlphaDev shows that AI can do more than optimize parameters or code tweaking—it can find new algorithms at a fundamental level. By framing algorithm discovery as a game, the researchers uncovered how machines could explore large search spaces and uncover solutions that human experts might never perceive. This could fundamentally change fields where speed and efficiency matter most, such as cryptography, compression, or high-performance computing.\n",
        "\n",
        "In short, the paper points to a milestone in computing: a computer system has on its own discovered better sorting algorithms than those invented by humans, and they have already been adopted in critical software libraries. AlphaDev represents a boundary beyond which AI no longer engages in playing games or generating code—it helps develop the very algorithms that provide the foundation of computing today.\n"
      ]
    }
  ],
  "metadata": {
    "kernelspec": {
      "display_name": "Python 3 (ipykernel)",
      "language": "python",
      "name": "python3"
    },
    "language_info": {
      "codemirror_mode": {
        "name": "ipython",
        "version": 3
      },
      "file_extension": ".py",
      "mimetype": "text/x-python",
      "name": "python",
      "nbconvert_exporter": "python",
      "pygments_lexer": "ipython3",
      "version": "3.11.1"
    },
    "toc": {
      "base_numbering": 1,
      "nav_menu": {},
      "number_sections": false,
      "sideBar": true,
      "skip_h1_title": false,
      "title_cell": "Table of Contents",
      "title_sidebar": "Contents",
      "toc_cell": false,
      "toc_position": {},
      "toc_section_display": true,
      "toc_window_display": false
    },
    "vscode": {
      "interpreter": {
        "hash": "6d1e45cadc3597bb8b6600530fbdf8c3eefe919a24ef54d9d32b318795b772e0"
      }
    },
    "colab": {
      "provenance": []
    }
  },
  "nbformat": 4,
  "nbformat_minor": 0
}